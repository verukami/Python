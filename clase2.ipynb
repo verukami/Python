{
 "cells": [
  {
   "cell_type": "code",
   "execution_count": null,
   "metadata": {},
   "outputs": [],
   "source": [
    "numero_float= 10.0\n",
    "numero_float2= 5.55\n",
    "\n",
    "print(type(numero_float))\n",
    "print(type(numero_float2))\n"
   ]
  },
  {
   "cell_type": "code",
   "execution_count": null,
   "metadata": {},
   "outputs": [],
   "source": [
    "numero_complex = 1+1j\n",
    "numero_complex2 = 5.5+2.7j\n",
    "\n",
    "print(type(numero_complex))\n",
    "print(type(numero_complex2))\n"
   ]
  },
  {
   "cell_type": "code",
   "execution_count": null,
   "metadata": {},
   "outputs": [
    {
     "ename": "",
     "evalue": "",
     "output_type": "error",
     "traceback": [
      "\u001b[1;31mRunning cells with 'Python 3.7.0' requires the ipykernel package.\n",
      "\u001b[1;31mRun the following command to install 'ipykernel' into the Python environment. \n",
      "\u001b[1;31mCommand: 'c:/Users/Vero/AppData/Local/Programs/Python/Python37-32/python.exe -m pip install ipykernel -U --user --force-reinstall'"
     ]
    }
   ],
   "source": [
    "nombre = \"Veronica\"\n",
    "apellido = 'Martinez'\n",
    "\n",
    "print(type(nombre))\n",
    "print(type(apellido))\n"
   ]
  },
  {
   "cell_type": "code",
   "execution_count": null,
   "metadata": {},
   "outputs": [],
   "source": [
    "verdad = True\n",
    "falso = False\n",
    "print(type(verdad))\n",
    "print(type(falso))\n"
   ]
  },
  {
   "cell_type": "code",
   "execution_count": null,
   "metadata": {},
   "outputs": [],
   "source": [
    "mi_lista = [10, \"hola, True, False\"]\n",
    "print(len(mi_lista))\n",
    "- n= cantidad de elementos de la mi_lista\n",
    "- +: 0 a n-1\n",
    "- -: -1 a -n\n"
   ]
  },
  {
   "cell_type": "code",
   "execution_count": null,
   "metadata": {},
   "outputs": [],
   "source": [
    "mi_tupla = 10, \"hola\", True, False\n",
    "mi_tupla2= (10, \"hola\", True, False)\n",
    "\n",
    "print(mi_tupla)\n",
    "print(mi_tupla2)\n"
   ]
  },
  {
   "cell_type": "code",
   "execution_count": null,
   "metadata": {},
   "outputs": [],
   "source": [
    "mis_datos = {\n",
    "    \"nombre\" : \"Veronica\",\n",
    "    \"apellido\" : \"Mtz\",\n",
    "    \"edad\" : 32\n",
    "}"
   ]
  },
  {
   "cell_type": "code",
   "execution_count": null,
   "metadata": {},
   "outputs": [],
   "source": [
    "print(mis_datos.keys())"
   ]
  },
  {
   "cell_type": "code",
   "execution_count": null,
   "metadata": {},
   "outputs": [],
   "source": [
    "mis_datos[\"nombre\"]\n",
    "mis_datos[\"edad\"]"
   ]
  },
  {
   "cell_type": "code",
   "execution_count": null,
   "metadata": {},
   "outputs": [],
   "source": [
    "nombre = \"Veronica\"\n",
    "edad = 32\n",
    "\n",
    "print(f\"Mi nombre es {nombre} y tengo {edad}\")\n",
    "\n",
    "print(\"Mi nombre es {} y mi edad es {}\".format(nombre, edad))\n",
    "\n",
    "print(\"Mi nombre es\", nombre, \"y tengo\", edad)\n",
    "\n",
    "print(\"Mi nomre es\" + \" \" + nombre + \" \" + \"y tengo\" + \" \" + edad)"
   ]
  },
  {
   "cell_type": "code",
   "execution_count": null,
   "metadata": {},
   "outputs": [],
   "source": [
    "nombre = input()\n",
    "print(nombre)"
   ]
  }
 ],
 "metadata": {
  "kernelspec": {
   "display_name": "Python 3",
   "language": "python",
   "name": "python3"
  },
  "language_info": {
   "name": "python",
   "version": "3.12.3"
  }
 },
 "nbformat": 4,
 "nbformat_minor": 2
}
